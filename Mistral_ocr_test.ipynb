{
  "nbformat": 4,
  "nbformat_minor": 0,
  "metadata": {
    "colab": {
      "provenance": [],
      "authorship_tag": "ABX9TyMctJq2A8viLdaJADULw9Gz",
      "include_colab_link": true
    },
    "kernelspec": {
      "name": "python3",
      "display_name": "Python 3"
    },
    "language_info": {
      "name": "python"
    }
  },
  "cells": [
    {
      "cell_type": "markdown",
      "metadata": {
        "id": "view-in-github",
        "colab_type": "text"
      },
      "source": [
        "<a href=\"https://colab.research.google.com/github/TaniaWaiganjo/underwritting-portal/blob/master/Mistral_ocr_test.ipynb\" target=\"_parent\"><img src=\"https://colab.research.google.com/assets/colab-badge.svg\" alt=\"Open In Colab\"/></a>"
      ]
    },
    {
      "cell_type": "code",
      "execution_count": 1,
      "metadata": {
        "colab": {
          "base_uri": "https://localhost:8080/"
        },
        "id": "6r_Cs0fMvTVZ",
        "outputId": "a745a1b4-00f2-4061-f6be-61c6e9a78952"
      },
      "outputs": [
        {
          "output_type": "stream",
          "name": "stdout",
          "text": [
            "Collecting mistralai\n",
            "  Downloading mistralai-1.8.2-py3-none-any.whl.metadata (33 kB)\n",
            "Collecting eval-type-backport>=0.2.0 (from mistralai)\n",
            "  Downloading eval_type_backport-0.2.2-py3-none-any.whl.metadata (2.2 kB)\n",
            "Requirement already satisfied: httpx>=0.28.1 in /usr/local/lib/python3.11/dist-packages (from mistralai) (0.28.1)\n",
            "Requirement already satisfied: pydantic>=2.10.3 in /usr/local/lib/python3.11/dist-packages (from mistralai) (2.11.5)\n",
            "Requirement already satisfied: python-dateutil>=2.8.2 in /usr/local/lib/python3.11/dist-packages (from mistralai) (2.9.0.post0)\n",
            "Requirement already satisfied: typing-inspection>=0.4.0 in /usr/local/lib/python3.11/dist-packages (from mistralai) (0.4.1)\n",
            "Requirement already satisfied: anyio in /usr/local/lib/python3.11/dist-packages (from httpx>=0.28.1->mistralai) (4.9.0)\n",
            "Requirement already satisfied: certifi in /usr/local/lib/python3.11/dist-packages (from httpx>=0.28.1->mistralai) (2025.4.26)\n",
            "Requirement already satisfied: httpcore==1.* in /usr/local/lib/python3.11/dist-packages (from httpx>=0.28.1->mistralai) (1.0.9)\n",
            "Requirement already satisfied: idna in /usr/local/lib/python3.11/dist-packages (from httpx>=0.28.1->mistralai) (3.10)\n",
            "Requirement already satisfied: h11>=0.16 in /usr/local/lib/python3.11/dist-packages (from httpcore==1.*->httpx>=0.28.1->mistralai) (0.16.0)\n",
            "Requirement already satisfied: annotated-types>=0.6.0 in /usr/local/lib/python3.11/dist-packages (from pydantic>=2.10.3->mistralai) (0.7.0)\n",
            "Requirement already satisfied: pydantic-core==2.33.2 in /usr/local/lib/python3.11/dist-packages (from pydantic>=2.10.3->mistralai) (2.33.2)\n",
            "Requirement already satisfied: typing-extensions>=4.12.2 in /usr/local/lib/python3.11/dist-packages (from pydantic>=2.10.3->mistralai) (4.14.0)\n",
            "Requirement already satisfied: six>=1.5 in /usr/local/lib/python3.11/dist-packages (from python-dateutil>=2.8.2->mistralai) (1.17.0)\n",
            "Requirement already satisfied: sniffio>=1.1 in /usr/local/lib/python3.11/dist-packages (from anyio->httpx>=0.28.1->mistralai) (1.3.1)\n",
            "Downloading mistralai-1.8.2-py3-none-any.whl (374 kB)\n",
            "\u001b[2K   \u001b[90m━━━━━━━━━━━━━━━━━━━━━━━━━━━━━━━━━━━━━━━━\u001b[0m \u001b[32m374.1/374.1 kB\u001b[0m \u001b[31m13.0 MB/s\u001b[0m eta \u001b[36m0:00:00\u001b[0m\n",
            "\u001b[?25hDownloading eval_type_backport-0.2.2-py3-none-any.whl (5.8 kB)\n",
            "Installing collected packages: eval-type-backport, mistralai\n",
            "Successfully installed eval-type-backport-0.2.2 mistralai-1.8.2\n"
          ]
        }
      ],
      "source": [
        "! pip install mistralai"
      ]
    },
    {
      "cell_type": "code",
      "source": [
        "from mistralai import Mistral\n",
        "import base64\n"
      ],
      "metadata": {
        "id": "cbNpA6mOvhX_"
      },
      "execution_count": 2,
      "outputs": []
    },
    {
      "cell_type": "code",
      "source": [
        "api_key = \"Fofiz8WXH8J9wyJPFnLyQ8CCun04xcEt\""
      ],
      "metadata": {
        "id": "Rb_biuURvlem"
      },
      "execution_count": 3,
      "outputs": []
    },
    {
      "cell_type": "code",
      "source": [
        "client = Mistral(api_key=api_key)\n",
        "\n"
      ],
      "metadata": {
        "id": "3W-s0WQNvpx5"
      },
      "execution_count": 6,
      "outputs": []
    },
    {
      "cell_type": "markdown",
      "source": [
        "## Load files"
      ],
      "metadata": {
        "id": "aOg_4zd3yNBo"
      }
    },
    {
      "cell_type": "code",
      "source": [
        "from unicodedata import numeric\n",
        "from pathlib import Path\n",
        "from google.colab import drive\n",
        "import  pandas as pd\n",
        "import re\n",
        "import matplotlib.pyplot as plt\n",
        "\n",
        "drive.mount('/content/gdrive',force_remount=True)\n",
        "BASE_DIR=Path().resolve().parent\n",
        "GDRIVE_MOUNT=BASE_DIR/\"gdrive\"\n",
        "print(GDRIVE_MOUNT)\n",
        "!ls /content/gdrive/MyDrive/Kenya_Re/Data/\n",
        "DATA_DIR = \"/content/gdrive/MyDrive/Kenya_Re/Data/\"\n",
        "!ls $DATA_DIR\n",
        "\n",
        "statement2022 = DATA_DIR+\"2022 FEKAN Howell Audited FS (1).pdf\"\n",
        "statement2023 = DATA_DIR+\"2023 FEKAN Howell Audited FS (1).pdf\"\n",
        "proposal_form = DATA_DIR+\"Fekan Howell - Proposal Form .pdf\"\n",
        "#proposal_form = DATA_DIR+\"Fekan Howell - Proposal Form signed and dated 11072024.pdf\"\n",
        "rating_guide = DATA_DIR+\"PI - Rating guide.pdf\"\n"
      ],
      "metadata": {
        "colab": {
          "base_uri": "https://localhost:8080/"
        },
        "id": "VtWnsPpWyPoi",
        "outputId": "355fd56a-47b9-4dbe-b189-fda949c131fb"
      },
      "execution_count": 7,
      "outputs": [
        {
          "output_type": "stream",
          "name": "stdout",
          "text": [
            "Mounted at /content/gdrive\n",
            "/gdrive\n",
            "'2022 FEKAN Howell Audited FS (1).pdf'\n",
            "'2023 FEKAN Howell Audited FS (1).pdf'\n",
            "'Copy of PROFESSIONAL INDEMNITY QUOTATION TEMPLATE.xlsx'\n",
            " extracted_rating_guide.txt\n",
            "'Facultative Underwriting (PI) Problem Statement Template (2).docx'\n",
            "'Fekan Howell - Proposal Form .gdoc'\n",
            "'Fekan Howell - Proposal Form .pdf'\n",
            "'Fekan Howell - Proposal Form signed and dated 11072024.pdf'\n",
            "'Kenya re'\n",
            "'PI - Rating guide (1).pdf'\n",
            "'PI - Rating guide.gdoc'\n",
            "'PI - Rating guide.pdf'\n",
            "'PROFESSIONAL INDEMNITY QUOTATION TEMPLATE.xlsx'\n",
            " quotation.gdoc\n",
            " quotation.pdf\n",
            "'2022 FEKAN Howell Audited FS (1).pdf'\n",
            "'2023 FEKAN Howell Audited FS (1).pdf'\n",
            "'Copy of PROFESSIONAL INDEMNITY QUOTATION TEMPLATE.xlsx'\n",
            " extracted_rating_guide.txt\n",
            "'Facultative Underwriting (PI) Problem Statement Template (2).docx'\n",
            "'Fekan Howell - Proposal Form .gdoc'\n",
            "'Fekan Howell - Proposal Form .pdf'\n",
            "'Fekan Howell - Proposal Form signed and dated 11072024.pdf'\n",
            "'Kenya re'\n",
            "'PI - Rating guide (1).pdf'\n",
            "'PI - Rating guide.gdoc'\n",
            "'PI - Rating guide.pdf'\n",
            "'PROFESSIONAL INDEMNITY QUOTATION TEMPLATE.xlsx'\n",
            " quotation.gdoc\n",
            " quotation.pdf\n"
          ]
        }
      ]
    },
    {
      "cell_type": "markdown",
      "source": [
        "## OCR"
      ],
      "metadata": {
        "id": "0iCtfPgQExzA"
      }
    },
    {
      "cell_type": "code",
      "source": [
        "\n",
        "# Read the content of the PDF file\n",
        "with open(proposal_form, \"rb\") as pdf_file:\n",
        "    pdf_content = pdf_file.read()\n",
        "\n",
        "# Encode the content in base64\n",
        "pdf_base64 = base64.b64encode(pdf_content).decode('utf-8')\n",
        "\n",
        "# Construct the data URL for base64\n",
        "base64_document_url = f\"data:application/pdf;base64,{pdf_base64}\"\n",
        "\n",
        "ocr_response = client.ocr.process(\n",
        "  model=\"mistral-ocr-latest\",\n",
        "  document={\n",
        "    \"type\": \"document_url\", # Although the name is \"document_url\", it accepts base64 data URLs\n",
        "    \"document_url\": base64_document_url,\n",
        "  },\n",
        "  include_image_base64=True\n",
        ")\n",
        "ocr_response\n"
      ],
      "metadata": {
        "colab": {
          "base_uri": "https://localhost:8080/"
        },
        "id": "o_zFyc0aEu-X",
        "outputId": "2b79ae90-21ba-4d1c-cbc5-ab6dcd87baa9"
      },
      "execution_count": 17,
      "outputs": [
        {
          "output_type": "execute_result",
          "data": {
            "text/plain": [
              "OCRResponse(pages=[OCRPageObject(index=0, markdown='# FIRST ASSURANCE COMPANY LTD \\n\\nHEAD OFFICE - First Assurance House, Clyde Gardens, Gitanga Road, Lavington, PO Box 30064-00100, Nairobi, Kenya\\nTel: 254-020-567374/577737 Cell: 0722-444117/0733-605480 Fax: 567433/572204 Email: hoinfo@first assurance.co.ke, www.firstassurance.co.ke\\n\\n- MOMBASA BRANCH - First Assurance House, Nyali Road, Off Mombasa-Malindi Road, PO Box 43559, Mombasa, Kenya Tel: 254-041-476494/476495, Fax: 254-041-476495 Email: msainfo@firstassurance.co.ke\\n\\nPROFESSIONAL INDEMNITY PROPOSAL FORM\\n\\nMISCELLANEOUS ACTIVITIES\\n\\nFull title of Proposer and subsidiary Companies to be included in the insurance (hereinafter referred to as \"the Proposer\")\\nFEKAN HOWELL LLP\\n\\nPlease give a detailed description of the activities of the business to be covered\\nAUDIT, TAX AND ADVISORY SERVIRES (CORTIFIED PUBLIC ACCOUNTANTS)\\n\\nIs any radical change in the type of activities anticipated in the next 12 months? If yes, please give details: -\\nYes\\nNo\\n\\n4\\nWhen was the business established and did the present business take over and/or purchase any other business?\\n\\n4TH AUGUST.\\n2020', images=[], dimensions=OCRPageDimensions(dpi=200, height=2200, width=1700)), OCRPageObject(index=1, markdown=\"5\\na)\\nWhat was the Proposer's total turnover over the past three years?\\ni)\\n\\nYear..... 2021\\nAmt\\n$14 \\\\mathrm{~m} \\\\ldots$.\\nii)\\n\\nYear.... 2022\\nSam\\nAmt\\niii)\\n\\nYear... 2023\\nAmt\\n$74 m$\\niv)\\n\\nFor the forthcoming 12 months\\nAmt\\n100M\\n\\nPage 1 of 5\\nConfidential\\nfa/pdotcf/1003\\nFIRST ASSURANCE COMPANY LTD\\n\\n- HEAD OFFICE - First Assurance House, Clyde Gardens, Gitanga Road, Lavington, PO Box 30064-00100, Nairobi, Kenya\\n\\nTel: 254-020-567374/577737 Cell: 0722-444117/0733-605480 Fax: 567433/572204 Email: hoinfo@first assurance.co.ke, www.firstassurance.co.ke\\n\\n- MOMBASA BRANCH- First Assurance House, Nyali Road, Off Mombasa-Malindi Road, P O Box 43559, Mombasa, Kenya\\n\\nTel: 254-041-476494/476495, Fax: 254-041-476495 Email: msainfo@firstassurance.co.ke\\nb)\\n\\nIf business comprises more than one activity or discipline, indicate percentage of turnover\\napplicable to each. 2023 AUDIT \\\\& ASSURANCE\\ntax\\nSERVICES\", images=[], dimensions=OCRPageDimensions(dpi=200, height=2200, width=1700)), OCRPageObject(index=2, markdown='$23 \\\\% 46 \\\\%$\\n\\n# ADVISORY SERVICES \\n\\n317\\nc)\\n\\nPlease define \"turnover\" (i.e. does it comprise fees, or commissions or any other?)\\nFEESLAIS BURSEMENTS\\n\\nPlease give details of all Directors/Partners and Key Personnel:\\n6\\n\\nName\\nNICHOLAS KATHARI\\nPosition\\n\\n## FELIX PATRICK\\n\\nKARIUKI\\nMANAGING PARTNER\\nPARTNER\\nMMRIGI\\nPARTNER\\n\\n7\\nQualifications\\nMBA BLOM CRACK), (PS.\\nМва, ва срак.......\\nMBA BCom, CPA) PGD-CoPernance', images=[], dimensions=OCRPageDimensions(dpi=200, height=2200, width=1700)), OCRPageObject(index=3, markdown='Number of staff not included in (6) above employed by the Proposer in the past 12 months (indicate according to employment category)\\n\\n7\\n\\nPage 2 of 5\\nConfidential\\nfa/pdotcf/1003\\nFIRST ASSURANCE COMPANY LTD\\nHEAD OFFICE - First Assurance House, Clyde Gardens, Gitanga Road, Lavington, PO Box 30064-00100, Nairobi, Kenya\\nTel: 254-020-567374/577737 Cell: 0722-444117/0733-605480 Fax: 567433/572204 Email: hoinfo@first assurance.co.ke, www.firstassurance.co.ke\\n\\n- MOMBASA BRANCH - First Assurance House, Nyali Road, Off Mombasa-Malindi Road, PO Box 43559, Mombasa, Kenya\\n\\nTel: 254-041-476494/476495, Fax: 254-041-476495 Email: msainfo@firstassurance.co.ke\\nä/lo\\n\\n8 .\\nDo you engage the services of independent or specialist consultants?\\nYes\\nNo\\n\\nIf yes, please give full details and whether you have and/or will either ensure they have professional indemnity insurance for at least the amount of this proposal or have or will ensure that such consultants are engaged directly by your client.', images=[], dimensions=OCRPageDimensions(dpi=200, height=2200, width=1700)), OCRPageObject(index=4, markdown=\"# THEY SHOULD BE COVERED UNDER THI's \\n\\nCoven\\n\\nPlease give details of any claims settled or outstanding or compromise settlements arising from any breach of duty whether insured or not.\\n\\n## NONE\\n\\nIs the Proposer aware of any circumstances, which may give rise to a claim?\\n\\nPage 3 of 5\\nYes\\n\\nConfidential\\nNo\", images=[], dimensions=OCRPageDimensions(dpi=200, height=2200, width=1700)), OCRPageObject(index=5, markdown='If yes, please give full details.\\n\\n11\\na)\\n\\nHave you previously been insured?\\nYes\\nNo\\n\\nIf yes, with whom?\\n\\n# APA INSURANCE \\n\\nb)\\n\\nHas any proposal for insurance ever been declined?\\nYes\\nNo\\nc)\\n\\nHas any insurer ever required: -\\ni) Increased Premium or terms?\\n\\nYes\\nNo\\nii) Special restrictions or conditions?\\n\\nYes\\nNo\\nd)\\n\\nHas any Insurer ever terminated or refused to renew any insurance?\\n\\nYes\\nNo\\n\\nIf the answer to any of the above is Yes, please give details:', images=[], dimensions=OCRPageDimensions(dpi=200, height=2200, width=1700)), OCRPageObject(index=6, markdown='Page 4 of 5\\nConfidential\\nfa/pdotcf/1003\\n\\n12\\nFIRST ASSURANCE COMPANY LTD\\n\\n• HEAD OFFICE - First Assurance House, Clyde Gardens, Gitanga Road, Lavington, PO Box 30064-00100, Nairobi, Kenya\\nTel: 254-020-567374/577737 Cell: 0722-444117/0733-605480 Fax: 567433/572204 Email: hoinfo@first assurance.co.ke, www.firstassurance.co.ke\\n• MOMBASA BRANCH- First Assurance House, Nyali Road, Off Mombasa-Malindi Road, PO Box 43559, Mombasa, Kenya\\nTel: 254-041-476494/476495, Fax: 254-041-476495 Email: msainfo@firstassurance.co.ke\\n\\nIndemnity and Excess required.\\n\\nIndemnity: Kents. 100,009,000\\n\\nExcess: Ksits. 200,000\\n\\nTHE AMOUNT OF INDEMNITY EFFECTED PROVIDES PROTECTION IN THE AGGREGATE DURING ANY ONE\\nYEAR AND IS NOT AN AMOUNT OF INDEMNITY PROVIDED FOR EACH AND EVERY CLAIM.\\n\\n13\\nCertain expenses and liabilities are excluded from the cover and may be covered at an\\nadditional premium.\\n\\nDo you require cover for: -\\n\\ni)\\nDefamation?\\nYes\\nNo\\n\\nii)\\nLoss of documents? (Legal liability only)\\nYes\\n\\niii)\\nRetroactive errors and omissions?\\nYes\\n2 2 2', images=[], dimensions=OCRPageDimensions(dpi=200, height=2200, width=1700)), OCRPageObject(index=7, markdown='I/We declare that the statements and particulars on this Proposal are true and that I/We have not misstated or suppressed any material facts. I/We agree that this Proposal, together with any other information supplied by me/us shall form the basis of any Contract of Insurance effected thereon.\\n\\nDATE:\\n$14 / 07 / 2028$\\n\\nPage 5 of 5\\nFERLY\\nHowell\\nLLP\\nCertified\\n\\nPublic Accountants\\no. Boy\\nP.O.\\n\\n0800\\nNairobi\\nSIGNATURE\\n\\n# Nature Mining! Muz', images=[], dimensions=OCRPageDimensions(dpi=200, height=2200, width=1700))], model='mistral-ocr-2505-completion', usage_info=OCRUsageInfo(pages_processed=8, doc_size_bytes=617509), document_annotation=None)"
            ]
          },
          "metadata": {},
          "execution_count": 17
        }
      ]
    },
    {
      "cell_type": "code",
      "source": [
        "from IPython.display import Markdown, display\n",
        "\n",
        "# Extract the markdown text from each page and join them\n",
        "markdown_text = \"\"\n",
        "for page in ocr_response.pages:\n",
        "    markdown_text += page.markdown + \"\\n\\n---\\n\\n\" # Add a separator between pages\n",
        "\n",
        "display(Markdown(markdown_text))"
      ],
      "metadata": {
        "colab": {
          "base_uri": "https://localhost:8080/",
          "height": 1000
        },
        "id": "63-pEppWsWub",
        "outputId": "2a47ce5b-4174-4b65-a3ba-c9327fa7a573"
      },
      "execution_count": 16,
      "outputs": [
        {
          "output_type": "display_data",
          "data": {
            "text/plain": [
              "<IPython.core.display.Markdown object>"
            ],
            "text/markdown": "# FIRST ASSURANCE COMPANY LTD \n\nHEAD OFFICE - First Assurance House, Clyde Gardens, Gitanga Road, Lavington, PO Box 30064-00100, Nairobi, Kenya\nTel: 254-020-567374/577737 Cell: 0722-444117/0733-605480 Fax: 567433/572204 Email: hoinfo@first assurance.co.ke, www.firstassurance.co.ke\n\n- MOMBASA BRANCH - First Assurance House, Nyali Road, Off Mombasa-Malindi Road, PO Box 43559, Mombasa, Kenya Tel: 254-041-476494/476495, Fax: 254-041-476495 Email: msainfo@firstassurance.co.ke\n\nPROFESSIONAL INDEMNITY PROPOSAL FORM\n\nMISCELLANEOUS ACTIVITIES\n\nFull title of Proposer and subsidiary Companies to be included in the insurance (hereinafter referred to as \"the Proposer\")\nFEKAN HOWELL LLP\n\nPlease give a detailed description of the activities of the business to be covered\nAUDIT, TAX AND ADVISORY SERVIRES (CORTIFIED PUBLIC ACCOUNTANTS)\n\nIs any radical change in the type of activities anticipated in the next 12 months? If yes, please give details: -\nYes\nNo\n\n4\nWhen was the business established and did the present business take over and/or purchase any other business?\n\n4TH AUGUST.\n2020\n\n---\n\n5\na)\nWhat was the Proposer's total turnover over the past three years?\ni)\n\nYear..... 2021\nAmt\n$14 \\mathrm{~m} \\ldots$.\nii)\n\nYear.... 2022\nSam\nAmt\niii)\n\nYear... 2023\nAmt\n$74 m$\niv)\n\nFor the forthcoming 12 months\nAmt\n100M\n\nPage 1 of 5\nConfidential\nfa/pdotcf/1003\nFIRST ASSURANCE COMPANY LTD\n\n- HEAD OFFICE - First Assurance House, Clyde Gardens, Gitanga Road, Lavington, PO Box 30064-00100, Nairobi, Kenya\n\nTel: 254-020-567374/577737 Cell: 0722-444117/0733-605480 Fax: 567433/572204 Email: hoinfo@first assurance.co.ke, www.firstassurance.co.ke\n\n- MOMBASA BRANCH- First Assurance House, Nyali Road, Off Mombasa-Malindi Road, P O Box 43559, Mombasa, Kenya\n\nTel: 254-041-476494/476495, Fax: 254-041-476495 Email: msainfo@firstassurance.co.ke\nb)\n\nIf business comprises more than one activity or discipline, indicate percentage of turnover\napplicable to each. 2023 AUDIT \\& ASSURANCE\ntax\nSERVICES\n\n---\n\n$23 \\% 46 \\%$\n\n# ADVISORY SERVICES \n\n317\nc)\n\nPlease define \"turnover\" (i.e. does it comprise fees, or commissions or any other?)\nFEESLAIS BURSEMENTS\n\nPlease give details of all Directors/Partners and Key Personnel:\n6\n\nName\nNICHOLAS KATHARI\nPosition\n\n## FELIX PATRICK\n\nKARIUKI\nMANAGING PARTNER\nPARTNER\nMMRIGI\nPARTNER\n\n7\nQualifications\nMBA BLOM CRACK), (PS.\nМва, ва срак.......\nMBA BCom, CPA) PGD-CoPernance\n\n---\n\nNumber of staff not included in (6) above employed by the Proposer in the past 12 months (indicate according to employment category)\n\n7\n\nPage 2 of 5\nConfidential\nfa/pdotcf/1003\nFIRST ASSURANCE COMPANY LTD\nHEAD OFFICE - First Assurance House, Clyde Gardens, Gitanga Road, Lavington, PO Box 30064-00100, Nairobi, Kenya\nTel: 254-020-567374/577737 Cell: 0722-444117/0733-605480 Fax: 567433/572204 Email: hoinfo@first assurance.co.ke, www.firstassurance.co.ke\n\n- MOMBASA BRANCH - First Assurance House, Nyali Road, Off Mombasa-Malindi Road, PO Box 43559, Mombasa, Kenya\n\nTel: 254-041-476494/476495, Fax: 254-041-476495 Email: msainfo@firstassurance.co.ke\nä/lo\n\n8 .\nDo you engage the services of independent or specialist consultants?\nYes\nNo\n\nIf yes, please give full details and whether you have and/or will either ensure they have professional indemnity insurance for at least the amount of this proposal or have or will ensure that such consultants are engaged directly by your client.\n\n---\n\n# THEY SHOULD BE COVERED UNDER THI's \n\nCoven\n\nPlease give details of any claims settled or outstanding or compromise settlements arising from any breach of duty whether insured or not.\n\n## NONE\n\nIs the Proposer aware of any circumstances, which may give rise to a claim?\n\nPage 3 of 5\nYes\n\nConfidential\nNo\n\n---\n\nIf yes, please give full details.\n\n11\na)\n\nHave you previously been insured?\nYes\nNo\n\nIf yes, with whom?\n\n# APA INSURANCE \n\nb)\n\nHas any proposal for insurance ever been declined?\nYes\nNo\nc)\n\nHas any insurer ever required: -\ni) Increased Premium or terms?\n\nYes\nNo\nii) Special restrictions or conditions?\n\nYes\nNo\nd)\n\nHas any Insurer ever terminated or refused to renew any insurance?\n\nYes\nNo\n\nIf the answer to any of the above is Yes, please give details:\n\n---\n\nPage 4 of 5\nConfidential\nfa/pdotcf/1003\n\n12\nFIRST ASSURANCE COMPANY LTD\n\n• HEAD OFFICE - First Assurance House, Clyde Gardens, Gitanga Road, Lavington, PO Box 30064-00100, Nairobi, Kenya\nTel: 254-020-567374/577737 Cell: 0722-444117/0733-605480 Fax: 567433/572204 Email: hoinfo@first assurance.co.ke, www.firstassurance.co.ke\n• MOMBASA BRANCH- First Assurance House, Nyali Road, Off Mombasa-Malindi Road, PO Box 43559, Mombasa, Kenya\nTel: 254-041-476494/476495, Fax: 254-041-476495 Email: msainfo@firstassurance.co.ke\n\nIndemnity and Excess required.\n\nIndemnity: Kents. 100,009,000\n\nExcess: Ksits. 200,000\n\nTHE AMOUNT OF INDEMNITY EFFECTED PROVIDES PROTECTION IN THE AGGREGATE DURING ANY ONE\nYEAR AND IS NOT AN AMOUNT OF INDEMNITY PROVIDED FOR EACH AND EVERY CLAIM.\n\n13\nCertain expenses and liabilities are excluded from the cover and may be covered at an\nadditional premium.\n\nDo you require cover for: -\n\ni)\nDefamation?\nYes\nNo\n\nii)\nLoss of documents? (Legal liability only)\nYes\n\niii)\nRetroactive errors and omissions?\nYes\n2 2 2\n\n---\n\nI/We declare that the statements and particulars on this Proposal are true and that I/We have not misstated or suppressed any material facts. I/We agree that this Proposal, together with any other information supplied by me/us shall form the basis of any Contract of Insurance effected thereon.\n\nDATE:\n$14 / 07 / 2028$\n\nPage 5 of 5\nFERLY\nHowell\nLLP\nCertified\n\nPublic Accountants\no. Boy\nP.O.\n\n0800\nNairobi\nSIGNATURE\n\n# Nature Mining! Muz\n\n---\n\n"
          },
          "metadata": {}
        }
      ]
    },
    {
      "cell_type": "markdown",
      "source": [
        "## Summarization\n"
      ],
      "metadata": {
        "id": "xbGO0P96vyv5"
      }
    },
    {
      "cell_type": "code",
      "source": [
        "def run_mistral(user_message, model=\"mistral-large-latest\"):\n",
        "    messages = [\n",
        "        {\"role\":\"user\", \"content\":user_message}\n",
        "    ]\n",
        "    chat_response = client.chat.complete(\n",
        "        model=model,\n",
        "        messages=messages\n",
        "    )\n",
        "    return (chat_response.choices[0].message.content)"
      ],
      "metadata": {
        "id": "Xqt1zohev1Qh"
      },
      "execution_count": 13,
      "outputs": []
    },
    {
      "cell_type": "markdown",
      "source": [
        "## Issues identified\n",
        "\n",
        "\n",
        "\n",
        "1.   Inability to identify checkboxes\n",
        "2.   Errors with handwritten text\n",
        "3.   Decoupling of ocr model from summarization model\n",
        "\n"
      ],
      "metadata": {
        "id": "V3WUSJpAxl1m"
      }
    }
  ]
}